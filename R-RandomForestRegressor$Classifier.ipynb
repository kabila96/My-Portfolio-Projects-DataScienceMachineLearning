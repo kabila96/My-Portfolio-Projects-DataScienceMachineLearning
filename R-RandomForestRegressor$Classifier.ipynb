{
 "cells": [
  {
   "cell_type": "markdown",
   "id": "5892673d-b583-49d8-80ec-6b9a1d30776a",
   "metadata": {},
   "source": [
    "RANDOM FOREST REGRESSOR AND CLASSIFIER"
   ]
  },
  {
   "cell_type": "code",
   "execution_count": 1,
   "id": "358bb238-4c3d-42e7-8ca2-7952e233e39f",
   "metadata": {},
   "outputs": [
    {
     "name": "stderr",
     "output_type": "stream",
     "text": [
      "\n",
      "Attaching package: 'dplyr'\n",
      "\n",
      "\n",
      "The following objects are masked from 'package:stats':\n",
      "\n",
      "    filter, lag\n",
      "\n",
      "\n",
      "The following objects are masked from 'package:base':\n",
      "\n",
      "    intersect, setdiff, setequal, union\n",
      "\n",
      "\n"
     ]
    }
   ],
   "source": [
    "# Load necessary libraries\n",
    "library(dplyr)\n",
    "library(ggplot2)"
   ]
  },
  {
   "cell_type": "code",
   "execution_count": 2,
   "id": "9eff657a-a0ac-495d-83c4-04d14c35c488",
   "metadata": {},
   "outputs": [],
   "source": [
    "setwd(\"C:/Users/User\")"
   ]
  },
  {
   "cell_type": "code",
   "execution_count": 3,
   "id": "413e162a-e745-4d23-a077-656e3fe3135f",
   "metadata": {},
   "outputs": [],
   "source": [
    "data <- read.csv(\"RandomForestRegressorClassifier.csv\")"
   ]
  },
  {
   "cell_type": "code",
   "execution_count": 5,
   "id": "31f7e7f1-ccaf-412f-8aff-91c6437cbcff",
   "metadata": {},
   "outputs": [
    {
     "data": {
      "text/html": [
       "<table class=\"dataframe\">\n",
       "<caption>A data.frame: 6 × 7</caption>\n",
       "<thead>\n",
       "\t<tr><th></th><th scope=col>Product_ID</th><th scope=col>Category</th><th scope=col>Price</th><th scope=col>Discount</th><th scope=col>Customer_Rating</th><th scope=col>Sales</th><th scope=col>Sales_Category</th></tr>\n",
       "\t<tr><th></th><th scope=col>&lt;chr&gt;</th><th scope=col>&lt;chr&gt;</th><th scope=col>&lt;dbl&gt;</th><th scope=col>&lt;dbl&gt;</th><th scope=col>&lt;dbl&gt;</th><th scope=col>&lt;dbl&gt;</th><th scope=col>&lt;chr&gt;</th></tr>\n",
       "</thead>\n",
       "<tbody>\n",
       "\t<tr><th scope=row>1</th><td>P_1</td><td>Electronics</td><td> 20.42</td><td>33.76</td><td>2.3</td><td>  32.05</td><td>Low   </td></tr>\n",
       "\t<tr><th scope=row>2</th><td>P_2</td><td>Electronics</td><td>338.29</td><td>31.32</td><td>4.7</td><td> 539.32</td><td>Medium</td></tr>\n",
       "\t<tr><th scope=row>3</th><td>P_3</td><td>Electronics</td><td>555.83</td><td> 7.44</td><td>3.9</td><td>1188.19</td><td>Medium</td></tr>\n",
       "\t<tr><th scope=row>4</th><td>P_4</td><td>Electronics</td><td>357.68</td><td>23.12</td><td>2.8</td><td> 477.37</td><td>Low   </td></tr>\n",
       "\t<tr><th scope=row>5</th><td>P_5</td><td>Furniture  </td><td>686.42</td><td>21.81</td><td>2.3</td><td> 603.97</td><td>Medium</td></tr>\n",
       "\t<tr><th scope=row>6</th><td>P_6</td><td>Furniture  </td><td>572.34</td><td>11.50</td><td>1.9</td><td>1195.41</td><td>Medium</td></tr>\n",
       "</tbody>\n",
       "</table>\n"
      ],
      "text/latex": [
       "A data.frame: 6 × 7\n",
       "\\begin{tabular}{r|lllllll}\n",
       "  & Product\\_ID & Category & Price & Discount & Customer\\_Rating & Sales & Sales\\_Category\\\\\n",
       "  & <chr> & <chr> & <dbl> & <dbl> & <dbl> & <dbl> & <chr>\\\\\n",
       "\\hline\n",
       "\t1 & P\\_1 & Electronics &  20.42 & 33.76 & 2.3 &   32.05 & Low   \\\\\n",
       "\t2 & P\\_2 & Electronics & 338.29 & 31.32 & 4.7 &  539.32 & Medium\\\\\n",
       "\t3 & P\\_3 & Electronics & 555.83 &  7.44 & 3.9 & 1188.19 & Medium\\\\\n",
       "\t4 & P\\_4 & Electronics & 357.68 & 23.12 & 2.8 &  477.37 & Low   \\\\\n",
       "\t5 & P\\_5 & Furniture   & 686.42 & 21.81 & 2.3 &  603.97 & Medium\\\\\n",
       "\t6 & P\\_6 & Furniture   & 572.34 & 11.50 & 1.9 & 1195.41 & Medium\\\\\n",
       "\\end{tabular}\n"
      ],
      "text/markdown": [
       "\n",
       "A data.frame: 6 × 7\n",
       "\n",
       "| <!--/--> | Product_ID &lt;chr&gt; | Category &lt;chr&gt; | Price &lt;dbl&gt; | Discount &lt;dbl&gt; | Customer_Rating &lt;dbl&gt; | Sales &lt;dbl&gt; | Sales_Category &lt;chr&gt; |\n",
       "|---|---|---|---|---|---|---|---|\n",
       "| 1 | P_1 | Electronics |  20.42 | 33.76 | 2.3 |   32.05 | Low    |\n",
       "| 2 | P_2 | Electronics | 338.29 | 31.32 | 4.7 |  539.32 | Medium |\n",
       "| 3 | P_3 | Electronics | 555.83 |  7.44 | 3.9 | 1188.19 | Medium |\n",
       "| 4 | P_4 | Electronics | 357.68 | 23.12 | 2.8 |  477.37 | Low    |\n",
       "| 5 | P_5 | Furniture   | 686.42 | 21.81 | 2.3 |  603.97 | Medium |\n",
       "| 6 | P_6 | Furniture   | 572.34 | 11.50 | 1.9 | 1195.41 | Medium |\n",
       "\n"
      ],
      "text/plain": [
       "  Product_ID Category    Price  Discount Customer_Rating Sales   Sales_Category\n",
       "1 P_1        Electronics  20.42 33.76    2.3               32.05 Low           \n",
       "2 P_2        Electronics 338.29 31.32    4.7              539.32 Medium        \n",
       "3 P_3        Electronics 555.83  7.44    3.9             1188.19 Medium        \n",
       "4 P_4        Electronics 357.68 23.12    2.8              477.37 Low           \n",
       "5 P_5        Furniture   686.42 21.81    2.3              603.97 Medium        \n",
       "6 P_6        Furniture   572.34 11.50    1.9             1195.41 Medium        "
      ]
     },
     "metadata": {},
     "output_type": "display_data"
    }
   ],
   "source": [
    "head(data)"
   ]
  },
  {
   "cell_type": "code",
   "execution_count": 6,
   "id": "5bcb9a07-b39f-4ddc-b4ca-af0b21b8888c",
   "metadata": {},
   "outputs": [
    {
     "name": "stderr",
     "output_type": "stream",
     "text": [
      "Loading required package: lattice\n",
      "\n"
     ]
    }
   ],
   "source": [
    "# Load library for machine learning\n",
    "library(caret)"
   ]
  },
  {
   "cell_type": "code",
   "execution_count": 7,
   "id": "12fd02d9-391d-44dd-bb5f-525e38741902",
   "metadata": {},
   "outputs": [],
   "source": [
    "# Encode categorical features\n",
    "\n",
    "data$Category <- as.factor(data$Category)\n",
    "\n",
    "data$Sales_Category <- as.factor(data$Sales_Category)"
   ]
  },
  {
   "cell_type": "code",
   "execution_count": 8,
   "id": "9535d198-98b8-42a2-81be-5b8853bf24d6",
   "metadata": {},
   "outputs": [],
   "source": [
    "set.seed(42)\n",
    "train_index <- createDataPartition(data$Sales, p = 0.8, list = FALSE)\n",
    "train_data <- data[train_index, ]\n",
    "test_data <- data[-train_index, ]"
   ]
  },
  {
   "cell_type": "markdown",
   "id": "4f7856b0-de3a-49a2-8fa4-1a068891926f",
   "metadata": {},
   "source": [
    "Random Forest Regressor"
   ]
  },
  {
   "cell_type": "code",
   "execution_count": 9,
   "id": "b308a845-4260-42c7-a3ff-44313b14ce22",
   "metadata": {},
   "outputs": [
    {
     "name": "stderr",
     "output_type": "stream",
     "text": [
      "randomForest 4.7-1.1\n",
      "\n",
      "Type rfNews() to see new features/changes/bug fixes.\n",
      "\n",
      "\n",
      "Attaching package: 'randomForest'\n",
      "\n",
      "\n",
      "The following object is masked from 'package:ggplot2':\n",
      "\n",
      "    margin\n",
      "\n",
      "\n",
      "The following object is masked from 'package:dplyr':\n",
      "\n",
      "    combine\n",
      "\n",
      "\n"
     ]
    }
   ],
   "source": [
    "# Load random forest library\n",
    "library(randomForest)"
   ]
  },
  {
   "cell_type": "code",
   "execution_count": 10,
   "id": "3386504d-0998-45c7-9881-645e9c36b579",
   "metadata": {},
   "outputs": [],
   "source": [
    "# Train Random Forest Regressor\n",
    "set.seed(42)\n",
    "rf_reg <- randomForest(Sales ~ Category + Price + Discount + Customer_Rating, data = train_data)"
   ]
  },
  {
   "cell_type": "code",
   "execution_count": 11,
   "id": "072348db-aea1-4b83-a391-285e616790b7",
   "metadata": {},
   "outputs": [],
   "source": [
    "# Predict on test data\n",
    "pred_sales <- predict(rf_reg, test_data)"
   ]
  },
  {
   "cell_type": "code",
   "execution_count": 12,
   "id": "dec29ef0-d42d-4308-8340-8950e48da2f7",
   "metadata": {},
   "outputs": [
    {
     "name": "stdout",
     "output_type": "stream",
     "text": [
      "Regression RMSE: 266.5489 \n"
     ]
    }
   ],
   "source": [
    "# Evaluate performance\n",
    "rmse <- sqrt(mean((test_data$Sales - pred_sales)^2))\n",
    "cat(\"Regression RMSE:\", rmse, \"\\n\")"
   ]
  },
  {
   "cell_type": "markdown",
   "id": "3c170608-69eb-4f90-91d8-bc533dcfeaaf",
   "metadata": {},
   "source": [
    "USE RANDOMIZED SEARCH"
   ]
  },
  {
   "cell_type": "code",
   "execution_count": 13,
   "id": "dcb32e28-006a-4feb-aeda-403c65e94105",
   "metadata": {},
   "outputs": [
    {
     "data": {
      "image/png": "[encoded data removed]",
      "text/plain": [
       "plot without title"
      ]
     },
     "metadata": {
      "image/png": {
       "height": 420,
       "width": 420
      }
     },
     "output_type": "display_data"
    }
   ],
   "source": [
    "# Plot feature importance\n",
    "importance <- as.data.frame(importance(rf_reg))\n",
    "importance$Feature <- rownames(importance)\n",
    "ggplot(importance, aes(x = reorder(Feature, IncNodePurity), y = IncNodePurity)) +\n",
    "  geom_bar(stat = \"identity\", fill = \"red\") +\n",
    "  coord_flip() +\n",
    "  labs(title = \"Feature Importance (Regression)\", x = \"Features\", y = \"Importance\")"
   ]
  },
  {
   "cell_type": "code",
   "execution_count": null,
   "id": "e89a4832-8aed-42d2-80af-f7afb82b4a21",
   "metadata": {},
   "outputs": [],
   "source": [
    "#####################Random Forest Classifier############################################"
   ]
  },
  {
   "cell_type": "code",
   "execution_count": 14,
   "id": "cc4fc08b-1d28-42b9-8235-a86f1ed6c2d9",
   "metadata": {},
   "outputs": [],
   "source": [
    "# Train Random Forest Classifier\n",
    "set.seed(42)\n",
    "rf_clf <- randomForest(Sales_Category ~ \n",
    "                         Category + Price + Discount + Customer_Rating, data = train_data)"
   ]
  },
  {
   "cell_type": "code",
   "execution_count": 15,
   "id": "24af8b3b-1133-4b4d-8eb2-555792ce0fca",
   "metadata": {},
   "outputs": [],
   "source": [
    "# Predict on test data\n",
    "pred_category <- predict(rf_clf, test_data)"
   ]
  },
  {
   "cell_type": "code",
   "execution_count": 16,
   "id": "861e45d0-c6bb-4e06-aec1-0d48e86d0575",
   "metadata": {},
   "outputs": [
    {
     "name": "stdout",
     "output_type": "stream",
     "text": [
      "Confusion Matrix and Statistics\n",
      "\n",
      "          Reference\n",
      "Prediction High Low Medium\n",
      "    High     19   0     22\n",
      "    Low       0 227     33\n",
      "    Medium   33  41    333\n",
      "\n",
      "Overall Statistics\n",
      "                                          \n",
      "               Accuracy : 0.8178          \n",
      "                 95% CI : (0.7874, 0.8456)\n",
      "    No Information Rate : 0.548           \n",
      "    P-Value [Acc > NIR] : < 2.2e-16       \n",
      "                                          \n",
      "                  Kappa : 0.6636          \n",
      "                                          \n",
      " Mcnemar's Test P-Value : NA              \n",
      "\n",
      "Statistics by Class:\n",
      "\n",
      "                     Class: High Class: Low Class: Medium\n",
      "Sensitivity              0.36538     0.8470        0.8582\n",
      "Specificity              0.96646     0.9250        0.7688\n",
      "Pos Pred Value           0.46341     0.8731        0.8182\n",
      "Neg Pred Value           0.95052     0.9085        0.8173\n",
      "Prevalence               0.07345     0.3785        0.5480\n",
      "Detection Rate           0.02684     0.3206        0.4703\n",
      "Detection Prevalence     0.05791     0.3672        0.5749\n",
      "Balanced Accuracy        0.66592     0.8860        0.8135\n"
     ]
    }
   ],
   "source": [
    "# Evaluate performance\n",
    "conf_matrix <- confusionMatrix(pred_category, test_data$Sales_Category)\n",
    "print(conf_matrix)"
   ]
  },
  {
   "cell_type": "code",
   "execution_count": 17,
   "id": "28dec49b-b3c1-478f-b817-d637a834afd8",
   "metadata": {},
   "outputs": [
    {
     "data": {
      "image/png": "[encoded data removed]",
      "text/plain": [
       "plot without title"
      ]
     },
     "metadata": {
      "image/png": {
       "height": 420,
       "width": 420
      }
     },
     "output_type": "display_data"
    }
   ],
   "source": [
    "# Visualize Confusion Matrix\n",
    "conf_mat <- as.data.frame(conf_matrix$table)\n",
    "ggplot(conf_mat, aes(Prediction, Reference, fill = Freq)) +\n",
    "  geom_tile() +\n",
    "  geom_text(aes(label = Freq), color = \"white\") +\n",
    "  scale_fill_gradient(low = \"blue\", high = \"red\") +\n",
    "  labs(title = \"Confusion Matrix\", x = \"Predicted\", y = \"Actual\")"
   ]
  },
  {
   "cell_type": "code",
   "execution_count": null,
   "id": "12b7cdab-cbfe-4d43-89e8-13b4dc4d4b3c",
   "metadata": {},
   "outputs": [],
   "source": [
    "#################Visualizations##########################################"
   ]
  },
  {
   "cell_type": "code",
   "execution_count": 18,
   "id": "92ed47bc-0cc4-4f1f-81a7-ad91aac04412",
   "metadata": {},
   "outputs": [
    {
     "data": {
      "image/png": "[encoded data removed]",
      "text/plain": [
       "plot without title"
      ]
     },
     "metadata": {
      "image/png": {
       "height": 420,
       "width": 420
      }
     },
     "output_type": "display_data"
    }
   ],
   "source": [
    "# Scatter plot of Price vs Sales\n",
    "ggplot(data, aes(x = Price, y = Sales, color = Sales_Category)) +\n",
    "  geom_point(alpha = 0.7) +\n",
    "  scale_color_manual(values = c(\"Low\" = \"red\", \"Medium\" = \"orange\", \"High\" = \"green\")) +\n",
    "  labs(title = \"Price vs Sales by Category\", x = \"Price\", y = \"Sales\")"
   ]
  },
  {
   "cell_type": "code",
   "execution_count": 19,
   "id": "049c9bf5-35d6-4d8e-b37e-0e6d0b08c72c",
   "metadata": {},
   "outputs": [
    {
     "data": {
      "image/png": "[encoded data removed]",
      "text/plain": [
       "plot without title"
      ]
     },
     "metadata": {
      "image/png": {
       "height": 420,
       "width": 420
      }
     },
     "output_type": "display_data"
    }
   ],
   "source": [
    "# Boxplot of Sales by Category\n",
    "ggplot(data, aes(x = Category, y = Sales, fill = Category)) +\n",
    "  geom_boxplot(alpha = 0.7) +\n",
    "  scale_fill_brewer(palette = \"Pastel1\") +\n",
    "  labs(title = \"Sales Distribution by Product Category\", x = \"Category\", y = \"Sales\")"
   ]
  },
  {
   "cell_type": "code",
   "execution_count": 20,
   "id": "817d6ff8-160c-457c-bea0-bc6612892a97",
   "metadata": {},
   "outputs": [],
   "source": [
    "##############SAVING THE MODEL FOR FUTURE USE############################################\n",
    "# Save models for future use\n",
    "saveRDS(rf_reg, \"rf_regressor_model.rds\")\n",
    "saveRDS(rf_clf, \"rf_classifier_model.rds\")"
   ]
  },
  {
   "cell_type": "code",
   "execution_count": null,
   "id": "afebe76f-3f2f-48f3-b8b3-82b57b6e2efe",
   "metadata": {},
   "outputs": [],
   "source": []
  },
  {
   "cell_type": "code",
   "execution_count": null,
   "id": "44eee3d2-a0be-49cc-a26f-e339070778a7",
   "metadata": {},
   "outputs": [],
   "source": []
  },
  {
   "cell_type": "code",
   "execution_count": null,
   "id": "2b28c74a-404d-4a63-9a04-d3acb7c81155",
   "metadata": {},
   "outputs": [],
   "source": []
  },
  {
   "cell_type": "code",
   "execution_count": null,
   "id": "4b9609d7-8568-43c4-8cc9-678933eb8f63",
   "metadata": {},
   "outputs": [],
   "source": []
  },
  {
   "cell_type": "code",
   "execution_count": null,
   "id": "0518dcb4-acd1-4895-b2b8-89d62b36f71e",
   "metadata": {},
   "outputs": [],
   "source": []
  },
  {
   "cell_type": "code",
   "execution_count": null,
   "id": "4feb9f57-80d9-4150-a12f-5787640970c0",
   "metadata": {},
   "outputs": [],
   "source": []
  },
  {
   "cell_type": "code",
   "execution_count": null,
   "id": "da4a6bfa-6259-45b4-92cb-69834e5090e3",
   "metadata": {},
   "outputs": [],
   "source": []
  },
  {
   "cell_type": "code",
   "execution_count": null,
   "id": "a08bdd39-c45c-4873-8346-b26dac0cf2ac",
   "metadata": {},
   "outputs": [],
   "source": []
  },
  {
   "cell_type": "code",
   "execution_count": null,
   "id": "b324a65c-9424-4b74-bb5b-e68ad840c116",
   "metadata": {},
   "outputs": [],
   "source": []
  },
  {
   "cell_type": "code",
   "execution_count": null,
   "id": "54ccb3a7-4f4f-4487-9a7f-8ab2af59329a",
   "metadata": {},
   "outputs": [],
   "source": []
  },
  {
   "cell_type": "code",
   "execution_count": null,
   "id": "a295d7d2-d9a3-4c38-9737-4d45825acdc9",
   "metadata": {},
   "outputs": [],
   "source": []
  },
  {
   "cell_type": "code",
   "execution_count": null,
   "id": "655165c0-44cc-451c-9cf0-89dbbdb528e8",
   "metadata": {},
   "outputs": [],
   "source": []
  }
 ],
 "metadata": {
  "kernelspec": {
   "display_name": "R",
   "language": "R",
   "name": "ir"
  },
  "language_info": {
   "codemirror_mode": "r",
   "file_extension": ".r",
   "mimetype": "text/x-r-source",
   "name": "R",
   "pygments_lexer": "r",
   "version": "4.1.3"
  }
 },
 "nbformat": 4,
 "nbformat_minor": 5
}
